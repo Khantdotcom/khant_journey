{
 "cells": [
  {
   "cell_type": "markdown",
   "id": "7986e093",
   "metadata": {},
   "source": [
    "# Regression Analysis"
   ]
  },
  {
   "cell_type": "markdown",
   "id": "764472f1",
   "metadata": {},
   "source": [
    "In this notebook, we'll explore how regression models work in a practical way. "
   ]
  },
  {
   "cell_type": "markdown",
   "id": "a68d6f6a",
   "metadata": {},
   "source": [
    "But we will not use pre-defined functions here. Instead, let's dive into the calculational steps of the process!! "
   ]
  },
  {
   "cell_type": "code",
   "execution_count": 60,
   "id": "73979729",
   "metadata": {},
   "outputs": [],
   "source": [
    "import pandas as pd\n",
    "import numpy as np\n",
    "import matplotlib.pyplot as plt\n",
    "import time"
   ]
  },
  {
   "cell_type": "code",
   "execution_count": 61,
   "id": "7ff359dd",
   "metadata": {},
   "outputs": [],
   "source": [
    "df = pd.read_csv(\"abalone.data.csv\")"
   ]
  },
  {
   "cell_type": "code",
   "execution_count": null,
   "id": "a5ef6882",
   "metadata": {},
   "outputs": [],
   "source": []
  },
  {
   "cell_type": "code",
   "execution_count": 62,
   "id": "49e574e9",
   "metadata": {},
   "outputs": [
    {
     "data": {
      "text/html": [
       "<div>\n",
       "<style scoped>\n",
       "    .dataframe tbody tr th:only-of-type {\n",
       "        vertical-align: middle;\n",
       "    }\n",
       "\n",
       "    .dataframe tbody tr th {\n",
       "        vertical-align: top;\n",
       "    }\n",
       "\n",
       "    .dataframe thead th {\n",
       "        text-align: right;\n",
       "    }\n",
       "</style>\n",
       "<table border=\"1\" class=\"dataframe\">\n",
       "  <thead>\n",
       "    <tr style=\"text-align: right;\">\n",
       "      <th></th>\n",
       "      <th>Sex</th>\n",
       "      <th>Length</th>\n",
       "      <th>Diameter</th>\n",
       "      <th>Height</th>\n",
       "      <th>Whole weightShucked weight</th>\n",
       "      <th>Viscera weight</th>\n",
       "      <th>Shell weight</th>\n",
       "      <th>Rings</th>\n",
       "      <th>Age</th>\n",
       "    </tr>\n",
       "  </thead>\n",
       "  <tbody>\n",
       "    <tr>\n",
       "      <th>0</th>\n",
       "      <td>M</td>\n",
       "      <td>0.455</td>\n",
       "      <td>0.365</td>\n",
       "      <td>0.095</td>\n",
       "      <td>0.5140</td>\n",
       "      <td>0.2245</td>\n",
       "      <td>0.1010</td>\n",
       "      <td>0.1500</td>\n",
       "      <td>15</td>\n",
       "    </tr>\n",
       "    <tr>\n",
       "      <th>1</th>\n",
       "      <td>M</td>\n",
       "      <td>0.350</td>\n",
       "      <td>0.265</td>\n",
       "      <td>0.090</td>\n",
       "      <td>0.2255</td>\n",
       "      <td>0.0995</td>\n",
       "      <td>0.0485</td>\n",
       "      <td>0.0700</td>\n",
       "      <td>7</td>\n",
       "    </tr>\n",
       "    <tr>\n",
       "      <th>2</th>\n",
       "      <td>F</td>\n",
       "      <td>0.530</td>\n",
       "      <td>0.420</td>\n",
       "      <td>0.135</td>\n",
       "      <td>0.6770</td>\n",
       "      <td>0.2565</td>\n",
       "      <td>0.1415</td>\n",
       "      <td>0.2100</td>\n",
       "      <td>9</td>\n",
       "    </tr>\n",
       "    <tr>\n",
       "      <th>3</th>\n",
       "      <td>M</td>\n",
       "      <td>0.440</td>\n",
       "      <td>0.365</td>\n",
       "      <td>0.125</td>\n",
       "      <td>0.5160</td>\n",
       "      <td>0.2155</td>\n",
       "      <td>0.1140</td>\n",
       "      <td>0.1550</td>\n",
       "      <td>10</td>\n",
       "    </tr>\n",
       "    <tr>\n",
       "      <th>4</th>\n",
       "      <td>I</td>\n",
       "      <td>0.330</td>\n",
       "      <td>0.255</td>\n",
       "      <td>0.080</td>\n",
       "      <td>0.2050</td>\n",
       "      <td>0.0895</td>\n",
       "      <td>0.0395</td>\n",
       "      <td>0.0550</td>\n",
       "      <td>7</td>\n",
       "    </tr>\n",
       "    <tr>\n",
       "      <th>...</th>\n",
       "      <td>...</td>\n",
       "      <td>...</td>\n",
       "      <td>...</td>\n",
       "      <td>...</td>\n",
       "      <td>...</td>\n",
       "      <td>...</td>\n",
       "      <td>...</td>\n",
       "      <td>...</td>\n",
       "      <td>...</td>\n",
       "    </tr>\n",
       "    <tr>\n",
       "      <th>4172</th>\n",
       "      <td>F</td>\n",
       "      <td>0.565</td>\n",
       "      <td>0.450</td>\n",
       "      <td>0.165</td>\n",
       "      <td>0.8870</td>\n",
       "      <td>0.3700</td>\n",
       "      <td>0.2390</td>\n",
       "      <td>0.2490</td>\n",
       "      <td>11</td>\n",
       "    </tr>\n",
       "    <tr>\n",
       "      <th>4173</th>\n",
       "      <td>M</td>\n",
       "      <td>0.590</td>\n",
       "      <td>0.440</td>\n",
       "      <td>0.135</td>\n",
       "      <td>0.9660</td>\n",
       "      <td>0.4390</td>\n",
       "      <td>0.2145</td>\n",
       "      <td>0.2605</td>\n",
       "      <td>10</td>\n",
       "    </tr>\n",
       "    <tr>\n",
       "      <th>4174</th>\n",
       "      <td>M</td>\n",
       "      <td>0.600</td>\n",
       "      <td>0.475</td>\n",
       "      <td>0.205</td>\n",
       "      <td>1.1760</td>\n",
       "      <td>0.5255</td>\n",
       "      <td>0.2875</td>\n",
       "      <td>0.3080</td>\n",
       "      <td>9</td>\n",
       "    </tr>\n",
       "    <tr>\n",
       "      <th>4175</th>\n",
       "      <td>F</td>\n",
       "      <td>0.625</td>\n",
       "      <td>0.485</td>\n",
       "      <td>0.150</td>\n",
       "      <td>1.0945</td>\n",
       "      <td>0.5310</td>\n",
       "      <td>0.2610</td>\n",
       "      <td>0.2960</td>\n",
       "      <td>10</td>\n",
       "    </tr>\n",
       "    <tr>\n",
       "      <th>4176</th>\n",
       "      <td>M</td>\n",
       "      <td>0.710</td>\n",
       "      <td>0.555</td>\n",
       "      <td>0.195</td>\n",
       "      <td>1.9485</td>\n",
       "      <td>0.9455</td>\n",
       "      <td>0.3765</td>\n",
       "      <td>0.4950</td>\n",
       "      <td>12</td>\n",
       "    </tr>\n",
       "  </tbody>\n",
       "</table>\n",
       "<p>4177 rows × 9 columns</p>\n",
       "</div>"
      ],
      "text/plain": [
       "     Sex  Length  Diameter  Height  Whole weightShucked weight  \\\n",
       "0      M   0.455     0.365   0.095                      0.5140   \n",
       "1      M   0.350     0.265   0.090                      0.2255   \n",
       "2      F   0.530     0.420   0.135                      0.6770   \n",
       "3      M   0.440     0.365   0.125                      0.5160   \n",
       "4      I   0.330     0.255   0.080                      0.2050   \n",
       "...   ..     ...       ...     ...                         ...   \n",
       "4172   F   0.565     0.450   0.165                      0.8870   \n",
       "4173   M   0.590     0.440   0.135                      0.9660   \n",
       "4174   M   0.600     0.475   0.205                      1.1760   \n",
       "4175   F   0.625     0.485   0.150                      1.0945   \n",
       "4176   M   0.710     0.555   0.195                      1.9485   \n",
       "\n",
       "      Viscera weight  Shell weight   Rings  Age  \n",
       "0             0.2245        0.1010  0.1500   15  \n",
       "1             0.0995        0.0485  0.0700    7  \n",
       "2             0.2565        0.1415  0.2100    9  \n",
       "3             0.2155        0.1140  0.1550   10  \n",
       "4             0.0895        0.0395  0.0550    7  \n",
       "...              ...           ...     ...  ...  \n",
       "4172          0.3700        0.2390  0.2490   11  \n",
       "4173          0.4390        0.2145  0.2605   10  \n",
       "4174          0.5255        0.2875  0.3080    9  \n",
       "4175          0.5310        0.2610  0.2960   10  \n",
       "4176          0.9455        0.3765  0.4950   12  \n",
       "\n",
       "[4177 rows x 9 columns]"
      ]
     },
     "execution_count": 62,
     "metadata": {},
     "output_type": "execute_result"
    }
   ],
   "source": [
    "df"
   ]
  },
  {
   "cell_type": "code",
   "execution_count": 63,
   "id": "46a5e423",
   "metadata": {},
   "outputs": [
    {
     "data": {
      "text/plain": [
       "(4177, 9)"
      ]
     },
     "execution_count": 63,
     "metadata": {},
     "output_type": "execute_result"
    }
   ],
   "source": [
    "df.shape"
   ]
  },
  {
   "cell_type": "code",
   "execution_count": 64,
   "id": "85573dfe",
   "metadata": {},
   "outputs": [
    {
     "data": {
      "text/plain": [
       "Index(['Sex', 'Length', 'Diameter', 'Height', 'Whole weightShucked weight',\n",
       "       'Viscera weight', 'Shell weight', 'Rings', 'Age'],\n",
       "      dtype='object')"
      ]
     },
     "execution_count": 64,
     "metadata": {},
     "output_type": "execute_result"
    }
   ],
   "source": [
    "df.columns\n"
   ]
  },
  {
   "cell_type": "code",
   "execution_count": 65,
   "id": "48ba4431",
   "metadata": {},
   "outputs": [
    {
     "data": {
      "text/plain": [
       "Sex                           0\n",
       "Length                        0\n",
       "Diameter                      0\n",
       "Height                        0\n",
       "Whole weightShucked weight    0\n",
       "Viscera weight                0\n",
       "Shell weight                  0\n",
       "Rings                         0\n",
       "Age                           0\n",
       "dtype: int64"
      ]
     },
     "execution_count": 65,
     "metadata": {},
     "output_type": "execute_result"
    }
   ],
   "source": [
    "df.isna().sum()"
   ]
  },
  {
   "cell_type": "code",
   "execution_count": 66,
   "id": "8eb5a83a",
   "metadata": {},
   "outputs": [
    {
     "data": {
      "text/plain": [
       "Index(['Length', 'Diameter', 'Height', 'Whole weightShucked weight',\n",
       "       'Viscera weight', 'Shell weight', 'Rings', 'Age'],\n",
       "      dtype='object')"
      ]
     },
     "execution_count": 66,
     "metadata": {},
     "output_type": "execute_result"
    }
   ],
   "source": [
    "df = df.drop(\"Sex\", axis=1)\n",
    "df.columns"
   ]
  },
  {
   "cell_type": "markdown",
   "id": "548d9f6b",
   "metadata": {},
   "source": [
    "# Visualization"
   ]
  },
  {
   "cell_type": "code",
   "execution_count": 95,
   "id": "39c7a110",
   "metadata": {},
   "outputs": [
    {
     "data": {
      "text/plain": [
       "<matplotlib.collections.PathCollection at 0x1370dc790>"
      ]
     },
     "execution_count": 95,
     "metadata": {},
     "output_type": "execute_result"
    },
    {
     "data": {
      "image/png": "[encoded data removed]",
      "text/plain": [
       "<Figure size 640x480 with 1 Axes>"
      ]
     },
     "metadata": {},
     "output_type": "display_data"
    }
   ],
   "source": [
    "plt.scatter(df['Height'], df['Age'])"
   ]
  },
  {
   "cell_type": "markdown",
   "id": "5549670b",
   "metadata": {},
   "source": [
    "#  Linear Regression"
   ]
  },
  {
   "cell_type": "code",
   "execution_count": 83,
   "id": "edd0f2b1",
   "metadata": {},
   "outputs": [],
   "source": [
    "def predict(X, w, b):\n",
    "    y_pred = np.dot(X, w) + b\n",
    "    return y_pred\n",
    "\n",
    "def cost_function(X, y, w, b):\n",
    "    y_pred = predict(X, w, b)\n",
    "    cost = (y - y_pred)**2\n",
    "    return np.mean(cost)\n",
    "\n",
    "def diff_w(X, y, w, b):\n",
    "    y_pred = predict(X, w, b)\n",
    "    m = X.shape[0]\n",
    "    f = -1 * sum((y - y_pred).reshape(-1, 1) * X)\n",
    "    # f = np.dot(X.T, (y_pred - y))\n",
    "    diff = f / m\n",
    "    return diff\n",
    "\n",
    "def diff_b(X, y, w, b):\n",
    "    y_pred = predict(X, w, b)\n",
    "    m = X.shape[0]\n",
    "    f = -1 * sum(y - y_pred)\n",
    "    # f = np.sum(y_pred - y)\n",
    "    diff =  f / m\n",
    "    return diff\n",
    "\n",
    "def gradient_descent_traditional(X, y, w, b, iterations):\n",
    "    learning_rate = 0.01\n",
    "    \n",
    "    for i in range(iterations):\n",
    "        dx = diff_w(X, y, w, b)\n",
    "        db = diff_b(X, y, w, b)\n",
    "        \n",
    "        w = w - (learning_rate * dx)\n",
    "        b = b - (learning_rate * db)\n",
    "        # print(f\"weight: {w}\")\n",
    "        # print(f\"bias: {b}\")\n",
    "        if i % 100 == 0:\n",
    "            print(f\"epoch {i}: {cost_function(X, y, w, b)}\")\n",
    "    return w, b"
   ]
  },
  {
   "cell_type": "code",
   "execution_count": 84,
   "id": "77b120bb",
   "metadata": {},
   "outputs": [
    {
     "name": "stdout",
     "output_type": "stream",
     "text": [
      "(3341, 7)\n",
      "(3341,)\n",
      "(836, 7)\n",
      "(836,)\n",
      "(7,)\n",
      "(1,)\n"
     ]
    }
   ],
   "source": [
    "# # X = np.expand_dims(train[:, 0], -1)\n",
    "# # X = np.hstack((np.ones_like(X), X))\n",
    "# # y = train[:, 1]\n",
    "\n",
    "# data_x = np.linspace(1.0, 10.0, 100)\n",
    "# data_y = np.sin(data_x) + 0.1*np.power(data_x,2) + 0.5*np.random.randn(100)\n",
    "# data_x = data_x[:, np.newaxis]\n",
    "# data_x /= np.max(data_x)\n",
    "\n",
    "# # data_x = np.hstack((np.ones_like(data_x), data_x))\n",
    "\n",
    "# n = int(data_x.shape[0] * 0.8)\n",
    "\n",
    "# train_x = data_x[:n, :]\n",
    "# train_y = data_y[:n]\n",
    "# test_x = data_x[n:, :]\n",
    "# test_y = data_y[n:]\n",
    "\n",
    "# print(train_x.shape)\n",
    "# print(train_y.shape)\n",
    "\n",
    "n = int(len(df) * 0.8)\n",
    "\n",
    "train_X = df.iloc[:n,:-1].to_numpy()\n",
    "train_Y = df.iloc[:n,-1].to_numpy()\n",
    "test_X = df.iloc[n:,:-1].to_numpy()\n",
    "test_Y = df.iloc[n:,-1].to_numpy()\n",
    "\n",
    "print(train_X.shape)\n",
    "print(train_Y.shape)\n",
    "print(test_X.shape)\n",
    "print(test_Y.shape)\n",
    "\n",
    "w = np.random.rand(train_X.shape[1])\n",
    "b = np.zeros(1)\n",
    "\n",
    "# print(X.shape)\n",
    "# print(y.shape)\n",
    "print(w.shape)\n",
    "print(b.shape)"
   ]
  },
  {
   "cell_type": "code",
   "execution_count": 85,
   "id": "76344d6e",
   "metadata": {},
   "outputs": [
    {
     "name": "stdout",
     "output_type": "stream",
     "text": [
      "epoch 0: 95.00979552610818\n",
      "epoch 100: 9.12637727030622\n",
      "epoch 200: 8.336838993333044\n",
      "epoch 300: 8.11942055842839\n",
      "epoch 400: 7.95781617249611\n",
      "1.5209441184997559\n"
     ]
    }
   ],
   "source": [
    "start = time.time()\n",
    "w, b = gradient_descent_traditional(train_X, train_Y, w, b, 500)\n",
    "print(time.time() - start)"
   ]
  },
  {
   "cell_type": "markdown",
   "id": "e69af40a",
   "metadata": {},
   "source": [
    "# Predict"
   ]
  },
  {
   "cell_type": "code",
   "execution_count": 89,
   "id": "e064fa1b",
   "metadata": {},
   "outputs": [],
   "source": [
    "def predict(x, w, b):\n",
    "    pred = np.dot(x, w) + b\n",
    "    return pred\n",
    "\n",
    "def mean_sq_error(y, y_pred):\n",
    "    cost = (y - y_pred)**2\n",
    "    return np.mean(cost)"
   ]
  },
  {
   "cell_type": "code",
   "execution_count": 90,
   "id": "1b6b684a",
   "metadata": {},
   "outputs": [
    {
     "name": "stdout",
     "output_type": "stream",
     "text": [
      "cost: 5.898853301236924\n"
     ]
    }
   ],
   "source": [
    "pred = predict(test_X, w, b)\n",
    "\n",
    "print(f\"cost: {mean_sq_error(test_Y, pred)}\")"
   ]
  },
  {
   "cell_type": "code",
   "execution_count": 93,
   "id": "fbd42fca",
   "metadata": {},
   "outputs": [
    {
     "data": {
      "text/plain": [
       "<matplotlib.collections.PathCollection at 0x13702fb50>"
      ]
     },
     "execution_count": 93,
     "metadata": {},
     "output_type": "execute_result"
    },
    {
     "data": {
      "image/png": "[encoded data removed]",
      "text/plain": [
       "<Figure size 640x480 with 1 Axes>"
      ]
     },
     "metadata": {},
     "output_type": "display_data"
    }
   ],
   "source": [
    "plt.scatter(test_X[:, 1], test_Y)"
   ]
  },
  {
   "cell_type": "code",
   "execution_count": 94,
   "id": "f292e1dc",
   "metadata": {},
   "outputs": [
    {
     "data": {
      "text/plain": [
       "<matplotlib.collections.PathCollection at 0x1365f6be0>"
      ]
     },
     "execution_count": 94,
     "metadata": {},
     "output_type": "execute_result"
    },
    {
     "data": {
      "image/png": "[encoded data removed]",
      "text/plain": [
       "<Figure size 640x480 with 1 Axes>"
      ]
     },
     "metadata": {},
     "output_type": "display_data"
    }
   ],
   "source": [
    "plt.scatter(test_X[:, 1], pred)"
   ]
  },
  {
   "cell_type": "code",
   "execution_count": null,
   "id": "b801a5b9",
   "metadata": {},
   "outputs": [],
   "source": []
  },
  {
   "cell_type": "code",
   "execution_count": null,
   "id": "4cee18b7",
   "metadata": {},
   "outputs": [],
   "source": [
    "X -> y\n",
    "X -> y\n",
    "\n",
    "\n",
    "X -> balls with different colors\n",
    "\n",
    "model -> cluster balls with same color"
   ]
  },
  {
   "cell_type": "code",
   "execution_count": null,
   "id": "2f085065",
   "metadata": {},
   "outputs": [],
   "source": [
    "x, x^2, x^3"
   ]
  },
  {
   "cell_type": "code",
   "execution_count": null,
   "id": "ace0da80",
   "metadata": {},
   "outputs": [],
   "source": [
    "more layer -> more complex\n",
    "more neurons -> more complex"
   ]
  }
 ],
 "metadata": {
  "kernelspec": {
   "display_name": "Python 3 (ipykernel)",
   "language": "python",
   "name": "python3"
  },
  "language_info": {
   "codemirror_mode": {
    "name": "ipython",
    "version": 3
   },
   "file_extension": ".py",
   "mimetype": "text/x-python",
   "name": "python",
   "nbconvert_exporter": "python",
   "pygments_lexer": "ipython3",
   "version": "3.9.13"
  }
 },
 "nbformat": 4,
 "nbformat_minor": 5
}
