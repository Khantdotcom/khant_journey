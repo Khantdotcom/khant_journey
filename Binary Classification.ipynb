{
 "cells": [
  {
   "cell_type": "code",
   "execution_count": 298,
   "metadata": {},
   "outputs": [],
   "source": [
    "import sklearn as sk\n",
    "import pandas as pd\n",
    "import numpy as np\n",
    "from sklearn import datasets"
   ]
  },
  {
   "cell_type": "code",
   "execution_count": 164,
   "metadata": {},
   "outputs": [],
   "source": [
    "iris = datasets.load_iris()"
   ]
  },
  {
   "cell_type": "code",
   "execution_count": 165,
   "metadata": {},
   "outputs": [],
   "source": [
    "iris_df = pd.DataFrame(iris.data, columns= iris.feature_names)"
   ]
  },
  {
   "cell_type": "code",
   "execution_count": 166,
   "metadata": {},
   "outputs": [
    {
     "data": {
      "text/html": [
       "<div>\n",
       "<style scoped>\n",
       "    .dataframe tbody tr th:only-of-type {\n",
       "        vertical-align: middle;\n",
       "    }\n",
       "\n",
       "    .dataframe tbody tr th {\n",
       "        vertical-align: top;\n",
       "    }\n",
       "\n",
       "    .dataframe thead th {\n",
       "        text-align: right;\n",
       "    }\n",
       "</style>\n",
       "<table border=\"1\" class=\"dataframe\">\n",
       "  <thead>\n",
       "    <tr style=\"text-align: right;\">\n",
       "      <th></th>\n",
       "      <th>sepal length (cm)</th>\n",
       "      <th>sepal width (cm)</th>\n",
       "      <th>petal length (cm)</th>\n",
       "      <th>petal width (cm)</th>\n",
       "    </tr>\n",
       "  </thead>\n",
       "  <tbody>\n",
       "    <tr>\n",
       "      <th>0</th>\n",
       "      <td>5.1</td>\n",
       "      <td>3.5</td>\n",
       "      <td>1.4</td>\n",
       "      <td>0.2</td>\n",
       "    </tr>\n",
       "    <tr>\n",
       "      <th>1</th>\n",
       "      <td>4.9</td>\n",
       "      <td>3.0</td>\n",
       "      <td>1.4</td>\n",
       "      <td>0.2</td>\n",
       "    </tr>\n",
       "    <tr>\n",
       "      <th>2</th>\n",
       "      <td>4.7</td>\n",
       "      <td>3.2</td>\n",
       "      <td>1.3</td>\n",
       "      <td>0.2</td>\n",
       "    </tr>\n",
       "    <tr>\n",
       "      <th>3</th>\n",
       "      <td>4.6</td>\n",
       "      <td>3.1</td>\n",
       "      <td>1.5</td>\n",
       "      <td>0.2</td>\n",
       "    </tr>\n",
       "    <tr>\n",
       "      <th>4</th>\n",
       "      <td>5.0</td>\n",
       "      <td>3.6</td>\n",
       "      <td>1.4</td>\n",
       "      <td>0.2</td>\n",
       "    </tr>\n",
       "    <tr>\n",
       "      <th>...</th>\n",
       "      <td>...</td>\n",
       "      <td>...</td>\n",
       "      <td>...</td>\n",
       "      <td>...</td>\n",
       "    </tr>\n",
       "    <tr>\n",
       "      <th>145</th>\n",
       "      <td>6.7</td>\n",
       "      <td>3.0</td>\n",
       "      <td>5.2</td>\n",
       "      <td>2.3</td>\n",
       "    </tr>\n",
       "    <tr>\n",
       "      <th>146</th>\n",
       "      <td>6.3</td>\n",
       "      <td>2.5</td>\n",
       "      <td>5.0</td>\n",
       "      <td>1.9</td>\n",
       "    </tr>\n",
       "    <tr>\n",
       "      <th>147</th>\n",
       "      <td>6.5</td>\n",
       "      <td>3.0</td>\n",
       "      <td>5.2</td>\n",
       "      <td>2.0</td>\n",
       "    </tr>\n",
       "    <tr>\n",
       "      <th>148</th>\n",
       "      <td>6.2</td>\n",
       "      <td>3.4</td>\n",
       "      <td>5.4</td>\n",
       "      <td>2.3</td>\n",
       "    </tr>\n",
       "    <tr>\n",
       "      <th>149</th>\n",
       "      <td>5.9</td>\n",
       "      <td>3.0</td>\n",
       "      <td>5.1</td>\n",
       "      <td>1.8</td>\n",
       "    </tr>\n",
       "  </tbody>\n",
       "</table>\n",
       "<p>150 rows × 4 columns</p>\n",
       "</div>"
      ],
      "text/plain": [
       "     sepal length (cm)  sepal width (cm)  petal length (cm)  petal width (cm)\n",
       "0                  5.1               3.5                1.4               0.2\n",
       "1                  4.9               3.0                1.4               0.2\n",
       "2                  4.7               3.2                1.3               0.2\n",
       "3                  4.6               3.1                1.5               0.2\n",
       "4                  5.0               3.6                1.4               0.2\n",
       "..                 ...               ...                ...               ...\n",
       "145                6.7               3.0                5.2               2.3\n",
       "146                6.3               2.5                5.0               1.9\n",
       "147                6.5               3.0                5.2               2.0\n",
       "148                6.2               3.4                5.4               2.3\n",
       "149                5.9               3.0                5.1               1.8\n",
       "\n",
       "[150 rows x 4 columns]"
      ]
     },
     "execution_count": 166,
     "metadata": {},
     "output_type": "execute_result"
    }
   ],
   "source": [
    "iris_df"
   ]
  },
  {
   "cell_type": "code",
   "execution_count": 167,
   "metadata": {},
   "outputs": [
    {
     "data": {
      "text/plain": [
       "sepal length (cm)    0\n",
       "sepal width (cm)     0\n",
       "petal length (cm)    0\n",
       "petal width (cm)     0\n",
       "dtype: int64"
      ]
     },
     "execution_count": 167,
     "metadata": {},
     "output_type": "execute_result"
    }
   ],
   "source": [
    "iris_df.isna().sum()"
   ]
  },
  {
   "cell_type": "code",
   "execution_count": 168,
   "metadata": {},
   "outputs": [],
   "source": [
    "iris_df['target'] = iris.target"
   ]
  },
  {
   "cell_type": "code",
   "execution_count": 169,
   "metadata": {},
   "outputs": [
    {
     "data": {
      "text/plain": [
       "0      0\n",
       "1      0\n",
       "2      0\n",
       "3      0\n",
       "4      0\n",
       "      ..\n",
       "145    2\n",
       "146    2\n",
       "147    2\n",
       "148    2\n",
       "149    2\n",
       "Name: target, Length: 150, dtype: int32"
      ]
     },
     "execution_count": 169,
     "metadata": {},
     "output_type": "execute_result"
    }
   ],
   "source": [
    "iris_df.iloc[:,-1] "
   ]
  },
  {
   "cell_type": "code",
   "execution_count": 170,
   "metadata": {},
   "outputs": [],
   "source": [
    "iris_df = iris_df.drop(iris_df[iris_df.target == 2].index)"
   ]
  },
  {
   "cell_type": "code",
   "execution_count": 171,
   "metadata": {},
   "outputs": [
    {
     "data": {
      "text/plain": [
       "0     0\n",
       "1     0\n",
       "2     0\n",
       "3     0\n",
       "4     0\n",
       "     ..\n",
       "95    1\n",
       "96    1\n",
       "97    1\n",
       "98    1\n",
       "99    1\n",
       "Name: target, Length: 100, dtype: int32"
      ]
     },
     "execution_count": 171,
     "metadata": {},
     "output_type": "execute_result"
    }
   ],
   "source": [
    "X = iris_df.iloc[:,:-1]\n",
    "Y = iris_df.iloc[:,-1]\n",
    "X\n",
    "Y"
   ]
  },
  {
   "cell_type": "code",
   "execution_count": 172,
   "metadata": {},
   "outputs": [],
   "source": [
    "import matplotlib.pyplot as plt"
   ]
  },
  {
   "cell_type": "code",
   "execution_count": 173,
   "metadata": {},
   "outputs": [
    {
     "data": {
      "image/png": "[encoded data removed]",
      "text/plain": [
       "<Figure size 640x480 with 1 Axes>"
      ]
     },
     "metadata": {},
     "output_type": "display_data"
    }
   ],
   "source": [
    "fig, ax = plt.subplots()\n",
    "ax.scatter(X.iloc[:,0], Y)\n",
    "plt.show()"
   ]
  },
  {
   "cell_type": "code",
   "execution_count": 174,
   "metadata": {},
   "outputs": [
    {
     "data": {
      "image/png": "[encoded data removed]",
      "text/plain": [
       "<Figure size 640x480 with 1 Axes>"
      ]
     },
     "metadata": {},
     "output_type": "display_data"
    }
   ],
   "source": [
    "fig, ax = plt.subplots()\n",
    "ax.scatter(X.iloc[:,1], Y)\n",
    "plt.show()"
   ]
  },
  {
   "cell_type": "code",
   "execution_count": 175,
   "metadata": {},
   "outputs": [],
   "source": [
    "from sklearn.model_selection import train_test_split\n",
    "\n",
    "X_train, X_test, Y_train, Y_test = train_test_split(X, Y, test_size=0.2)\n",
    "\n",
    "X_train, X_test = X_train.to_numpy(), X_test.to_numpy()\n",
    "Y_train, Y_test = Y_train.to_numpy(), Y_test.to_numpy()"
   ]
  },
  {
   "cell_type": "code",
   "execution_count": 176,
   "metadata": {},
   "outputs": [
    {
     "data": {
      "image/png": "[encoded data removed]",
      "text/plain": [
       "<Figure size 640x480 with 1 Axes>"
      ]
     },
     "metadata": {},
     "output_type": "display_data"
    }
   ],
   "source": [
    "fig, ax = plt.subplots()\n",
    "ax.scatter(X.iloc[:,2], Y)\n",
    "plt.show()"
   ]
  },
  {
   "cell_type": "code",
   "execution_count": 177,
   "metadata": {},
   "outputs": [
    {
     "data": {
      "image/png": "[encoded data removed]",
      "text/plain": [
       "<Figure size 640x480 with 1 Axes>"
      ]
     },
     "metadata": {},
     "output_type": "display_data"
    }
   ],
   "source": [
    "fig, ax = plt.subplots()\n",
    "ax.scatter(X.iloc[:,3], Y)\n",
    "plt.show()"
   ]
  },
  {
   "cell_type": "code",
   "execution_count": 282,
   "metadata": {},
   "outputs": [],
   "source": [
    "class LogisticRegression:\n",
    "\n",
    "    def __init__(self, w, b):\n",
    "        self.w = w\n",
    "        self.b = b\n",
    "\n",
    "    def sigmoid(self, z):\n",
    "        return 1 / (1 + np.exp(-z))\n",
    "        \n",
    "    def forward(self, X):\n",
    "        mu = X.mean(axis=0)\n",
    "        sigma = X.std(axis=0)\n",
    "        X_normalized = (X - mu) / sigma\n",
    "        z = np.dot(X_normalized, self.w)+self.b\n",
    "        a = self.sigmoid(z)\n",
    "        return a\n",
    "        \n",
    "    def cost_function(self, X, y):\n",
    "        eps = 1e-9\n",
    "        f = self.forward(X)\n",
    "        m = X.shape[0]\n",
    "        g = np.sum((y * np.log(f+eps)) + ((1-y) * np.log(1-f+eps)))\n",
    "        cost = (-1/m) * g\n",
    "        return cost\n",
    "    \n",
    "    def diff_w(self, X, y):\n",
    "        y_pred = self.forward(X)\n",
    "        m = X.shape[0]\n",
    "        f = -1 * np.sum((y - y_pred).reshape(-1, 1) * X)\n",
    "        diff = (1/m) * f\n",
    "        return diff\n",
    "    \n",
    "    def diff_b(self, X, y):\n",
    "        y_pred = self.forward(X)\n",
    "        m = X.shape[0]\n",
    "        f = -1 * np.sum(y - y_pred)\n",
    "        diff = (1/m) * f\n",
    "        return diff\n",
    "    \n",
    "    def fit(self, X, y, lr, iterations):\n",
    "        for i in range(iterations):\n",
    "            dx = self.diff_w(X, y)\n",
    "            db = self.diff_b(X, y) \n",
    "            self.w = self.w - (lr * dx)\n",
    "            self.b = self.b - (lr * db)\n",
    "            if i % 10 == 0:\n",
    "                print(f\"epoch {i}: {self.cost_function(X, y)}\")\n",
    "        return (self.w,self.b)\n",
    "\n",
    "    def predict(self,X):\n",
    "        pred = self.forward(X)\n",
    "        return np.array(pred >= 0.6, dtype=int)\n",
    "\n",
    "    def confusion_matrix(self, Y_test, Y_predict):\n",
    "        unique_labels = np.array([0, 1])  # Assuming binary classification\n",
    "        length = len(unique_labels)\n",
    "        matrix = np.zeros((length, length))\n",
    "        for true_label, pred_label in zip(Y_test, Y_predict):\n",
    "            true_idx = np.where(unique_labels == true_label)[0][0]\n",
    "            pred_idx = np.where(unique_labels == pred_label)[0][0]\n",
    "            matrix[true_idx, pred_idx] += 1\n",
    "        return matrix\n"
   ]
  },
  {
   "cell_type": "code",
   "execution_count": 283,
   "metadata": {},
   "outputs": [
    {
     "name": "stdout",
     "output_type": "stream",
     "text": [
      "(80, 4)\n",
      "(80,)\n",
      "(20, 4)\n",
      "(20,)\n",
      "[0.37666141 0.24864754 0.02519034 0.56262912]\n",
      "[0.84986461]\n"
     ]
    }
   ],
   "source": [
    "# w = np.random.rand(X_train.shape[1])\n",
    "w = np.random.rand(X_train.shape[1])\n",
    "b = np.random.rand(1)\n",
    "\n",
    "print(X_train.shape)\n",
    "print(Y_train.shape)\n",
    "print(X_test.shape)\n",
    "print(Y_test.shape)\n",
    "\n",
    "print(w)\n",
    "print(b)"
   ]
  },
  {
   "cell_type": "code",
   "execution_count": 292,
   "metadata": {},
   "outputs": [
    {
     "name": "stdout",
     "output_type": "stream",
     "text": [
      "epoch 0: 0.5037607170638579\n",
      "epoch 10: 0.5795976914264843\n",
      "epoch 20: 0.6699262021409331\n",
      "epoch 30: 0.7665530050340283\n",
      "epoch 40: 0.8587034737094513\n",
      "epoch 50: 0.9383699583939074\n",
      "epoch 60: 1.0023536277399119\n",
      "epoch 70: 1.0509520152751437\n",
      "epoch 80: 1.0860621757609514\n",
      "epoch 90: 1.1099837670385486\n",
      "epoch 100: 1.1248821541473526\n",
      "epoch 110: 1.1326106473971276\n",
      "epoch 120: 1.134688473108442\n",
      "epoch 130: 1.1323352248643221\n",
      "epoch 140: 1.126519807217155\n",
      "epoch 150: 1.1180079522496127\n",
      "epoch 160: 1.1074032600300368\n",
      "epoch 170: 1.0951809465320193\n",
      "epoch 180: 1.081714965974496\n",
      "epoch 190: 1.0672995680014699\n",
      "epoch 200: 1.0521663394496639\n",
      "epoch 210: 1.0364976412343831\n",
      "epoch 220: 1.0204371889685473\n",
      "epoch 230: 1.0040983782102455\n",
      "epoch 240: 0.9875708314790457\n",
      "epoch 250: 0.9709255441907892\n",
      "epoch 260: 0.9542189271323711\n",
      "epoch 270: 0.9374959802374359\n",
      "epoch 280: 0.9207927828271245\n",
      "epoch 290: 0.9041384463453582\n",
      "epoch 300: 0.88755664471839\n",
      "epoch 310: 0.8710668130557624\n",
      "epoch 320: 0.854685086116369\n",
      "epoch 330: 0.8384250327162888\n",
      "epoch 340: 0.822298230210254\n",
      "epoch 350: 0.806314713669364\n",
      "epoch 360: 0.7904833268761572\n",
      "epoch 370: 0.7748119963458635\n",
      "epoch 380: 0.7593079449274817\n",
      "epoch 390: 0.7439778578769992\n",
      "epoch 400: 0.7288280114191505\n",
      "epoch 410: 0.713864371558882\n",
      "epoch 420: 0.6990926691394599\n",
      "epoch 430: 0.684518455768981\n",
      "epoch 440: 0.670147144171113\n",
      "epoch 450: 0.6559840356967657\n",
      "epoch 460: 0.6420343371122386\n",
      "epoch 470: 0.6283031683177838\n",
      "epoch 480: 0.6147955623179006\n",
      "epoch 490: 0.6015164585362052\n",
      "epoch 500: 0.5884706904225425\n",
      "epoch 510: 0.5756629682200144\n",
      "epoch 520: 0.5630978577283268\n",
      "epoch 530: 0.5507797559020492\n",
      "epoch 540: 0.5387128641435301\n",
      "epoch 550: 0.5269011601768508\n",
      "epoch 560: 0.5153483694090094\n",
      "epoch 570: 0.5040579366869955\n",
      "epoch 580: 0.4930329993363767\n",
      "epoch 590: 0.48227636231316906\n",
      "epoch 600: 0.4717904762141616\n",
      "epoch 610: 0.46157741877292446\n",
      "epoch 620: 0.4516388803241855\n",
      "epoch 630: 0.4419761535555544\n",
      "epoch 640: 0.43259012769213545\n",
      "epoch 650: 0.4234812870867806\n",
      "epoch 660: 0.4146497140269344\n",
      "epoch 670: 0.4060950954274346\n",
      "epoch 680: 0.3978167329646216\n",
      "epoch 690: 0.3898135561255591\n",
      "epoch 700: 0.38208413759924903\n",
      "epoch 710: 0.3746267104239392\n",
      "epoch 720: 0.36743918632308686\n",
      "epoch 730: 0.3605191747075078\n",
      "epoch 740: 0.3538640018866704\n",
      "epoch 750: 0.3474707301113171\n",
      "epoch 760: 0.3413361761558948\n",
      "epoch 770: 0.33545692923639914\n",
      "epoch 780: 0.329829368141784\n",
      "epoch 790: 0.3244496775307571\n",
      "epoch 800: 0.31931386340752105\n",
      "epoch 810: 0.31441776783799913\n",
      "epoch 820: 0.30975708300165805\n",
      "epoch 830: 0.30532736469356125\n",
      "epoch 840: 0.30112404539794935\n",
      "epoch 850: 0.29714244705022635\n",
      "epoch 860: 0.2933777935909311\n",
      "epoch 870: 0.28982522339544414\n",
      "epoch 880: 0.28647980163921744\n",
      "epoch 890: 0.28333653263242614\n",
      "epoch 900: 0.2803903721321263\n",
      "epoch 910: 0.27763623961588507\n",
      "epoch 920: 0.27506903047970066\n",
      "epoch 930: 0.27268362810573515\n",
      "epoch 940: 0.2704749157324358\n",
      "epoch 950: 0.2684377880512108\n",
      "epoch 960: 0.266567162449826\n",
      "epoch 970: 0.2648579898227723\n",
      "epoch 980: 0.2633052648725102\n",
      "epoch 990: 0.2619040358321149\n"
     ]
    }
   ],
   "source": [
    "log_reg = LogisticRegression(w, b)\n",
    "lr = 0.01\n",
    "iterations = 1000\n",
    "pred_w,pred_b = log_reg.fit(X_train, Y_train, lr, iterations)"
   ]
  },
  {
   "cell_type": "code",
   "execution_count": 293,
   "metadata": {},
   "outputs": [],
   "source": [
    "testing = LogisticRegression(w,b)"
   ]
  },
  {
   "cell_type": "code",
   "execution_count": 294,
   "metadata": {},
   "outputs": [
    {
     "data": {
      "text/plain": [
       "array([1.23442551, 1.10641164, 0.88295445, 1.42039322])"
      ]
     },
     "execution_count": 294,
     "metadata": {},
     "output_type": "execute_result"
    }
   ],
   "source": [
    "pred_w"
   ]
  },
  {
   "cell_type": "code",
   "execution_count": 295,
   "metadata": {},
   "outputs": [
    {
     "data": {
      "text/plain": [
       "array([0.24977976])"
      ]
     },
     "execution_count": 295,
     "metadata": {},
     "output_type": "execute_result"
    }
   ],
   "source": [
    "pred_b"
   ]
  },
  {
   "cell_type": "code",
   "execution_count": 296,
   "metadata": {},
   "outputs": [],
   "source": [
    "Y_predict = log_reg.predict(X_test)"
   ]
  },
  {
   "cell_type": "code",
   "execution_count": 297,
   "metadata": {},
   "outputs": [
    {
     "data": {
      "text/plain": [
       "array([[11.,  1.],\n",
       "       [ 1.,  7.]])"
      ]
     },
     "execution_count": 297,
     "metadata": {},
     "output_type": "execute_result"
    }
   ],
   "source": [
    "log_reg.confusion_matrix(Y_predict,Y_test)"
   ]
  }
 ],
 "metadata": {
  "kernelspec": {
   "display_name": "tf2",
   "language": "python",
   "name": "python3"
  },
  "language_info": {
   "codemirror_mode": {
    "name": "ipython",
    "version": 3
   },
   "file_extension": ".py",
   "mimetype": "text/x-python",
   "name": "python",
   "nbconvert_exporter": "python",
   "pygments_lexer": "ipython3",
   "version": "3.11.1"
  }
 },
 "nbformat": 4,
 "nbformat_minor": 2
}
